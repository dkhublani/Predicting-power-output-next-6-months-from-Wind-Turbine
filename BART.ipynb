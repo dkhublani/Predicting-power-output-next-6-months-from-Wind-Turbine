{
 "cells": [
  {
   "cell_type": "code",
   "execution_count": 1,
   "metadata": {},
   "outputs": [
    {
     "name": "stderr",
     "output_type": "stream",
     "text": [
      "Updating HTML index of packages in '.Library'\n",
      "Making 'packages.html' ... done\n"
     ]
    }
   ],
   "source": [
    "install.packages('lubridate')"
   ]
  },
  {
   "cell_type": "code",
   "execution_count": 2,
   "metadata": {},
   "outputs": [
    {
     "name": "stderr",
     "output_type": "stream",
     "text": [
      "Updating HTML index of packages in '.Library'\n",
      "Making 'packages.html' ... done\n"
     ]
    }
   ],
   "source": [
    "install.packages('Metrics')"
   ]
  },
  {
   "cell_type": "code",
   "execution_count": 4,
   "metadata": {},
   "outputs": [
    {
     "name": "stderr",
     "output_type": "stream",
     "text": [
      "Loading required package: Metrics\n"
     ]
    }
   ],
   "source": [
    "library(lubridate)\n",
    "data = read.csv('/home/dupad/Desktop/619/619 project/TrainingData_2015.csv', header = T)\n",
    "data$Time = as.Date(data$Time, format = '%m/%d/%Y')\n",
    "RMSE = matrix(nrow = 4, ncol = 4)\n",
    "require(Metrics)\n",
    "data$Wind.Direction<-cos( (pi*data$Wind.Direction)/180)\n",
    "data[,7]<-data$Wind.Speed_Std/data$Wind.Speed"
   ]
  },
  {
   "cell_type": "code",
   "execution_count": 6,
   "metadata": {},
   "outputs": [
    {
     "name": "stderr",
     "output_type": "stream",
     "text": [
      "also installing the dependencies ‘rematch’, ‘forcats’, ‘cellranger’, ‘zip’, ‘SparseM’, ‘MatrixModels’, ‘sp’, ‘haven’, ‘curl’, ‘readxl’, ‘openxlsx’, ‘minqa’, ‘nloptr’, ‘RcppEigen’, ‘carData’, ‘pbkrtest’, ‘quantreg’, ‘maptools’, ‘rio’, ‘lme4’, ‘itertools’, ‘rJava’, ‘bartMachineJARs’, ‘car’, ‘missForest’\n",
      "\n",
      "Warning message in install.packages(\"bartMachine\"):\n",
      "“installation of package ‘curl’ had non-zero exit status”Warning message in install.packages(\"bartMachine\"):\n",
      "“installation of package ‘nloptr’ had non-zero exit status”Warning message in install.packages(\"bartMachine\"):\n",
      "“installation of package ‘rJava’ had non-zero exit status”Warning message in install.packages(\"bartMachine\"):\n",
      "“installation of package ‘lme4’ had non-zero exit status”Warning message in install.packages(\"bartMachine\"):\n",
      "“installation of package ‘bartMachineJARs’ had non-zero exit status”Warning message in install.packages(\"bartMachine\"):\n",
      "“installation of package ‘pbkrtest’ had non-zero exit status”Warning message in install.packages(\"bartMachine\"):\n",
      "“installation of package ‘rio’ had non-zero exit status”Warning message in install.packages(\"bartMachine\"):\n",
      "“installation of package ‘car’ had non-zero exit status”Warning message in install.packages(\"bartMachine\"):\n",
      "“installation of package ‘bartMachine’ had non-zero exit status”Updating HTML index of packages in '.Library'\n",
      "Making 'packages.html' ... done\n"
     ]
    }
   ],
   "source": [
    "install.packages('bartMachine')"
   ]
  },
  {
   "cell_type": "code",
   "execution_count": 5,
   "metadata": {},
   "outputs": [
    {
     "ename": "ERROR",
     "evalue": "Error in bartMachine(X = train_data[, c(2, 3, 4, 5)], y = train_data$Power_Avg): could not find function \"bartMachine\"\n",
     "output_type": "error",
     "traceback": [
      "Error in bartMachine(X = train_data[, c(2, 3, 4, 5)], y = train_data$Power_Avg): could not find function \"bartMachine\"\nTraceback:\n"
     ]
    }
   ],
   "source": [
    "require('bartMachine')\n",
    "for (i in 1:4){\n",
    "  train_data = data[which(quarter(data$Time)==i),]\n",
    "  fit<-bartMachine(X=train_data[,c(2,3,4,5)], y=train_data$Power_Avg)\n",
    "    \n",
    "  for (j in 1:4){\n",
    "    test_data = data[which(quarter(data$Time)==j), ]\n",
    "    ypred=predict(fit , test_data[,c(2,3,4,5)])\n",
    "    RMSE[i,j]  = rmse(test_data$Power_Avg, ypred)  \n",
    "      }\n",
    "}\n",
    "\n",
    "\n",
    "write.table(x = RMSE,'bartrmseCos(speed,temp,direction,std_dev).csv', sep=',')"
   ]
  }
 ],
 "metadata": {
  "kernelspec": {
   "display_name": "R 3.4.4",
   "language": "R",
   "name": "ir33"
  },
  "language_info": {
   "codemirror_mode": "r",
   "file_extension": ".r",
   "mimetype": "text/x-r-source",
   "name": "R",
   "pygments_lexer": "r",
   "version": "3.5.0"
  }
 },
 "nbformat": 4,
 "nbformat_minor": 2
}
