{
 "cells": [
  {
   "cell_type": "code",
   "execution_count": 33,
   "metadata": {
    "scrolled": true
   },
   "outputs": [
    {
     "name": "stdout",
     "output_type": "stream",
     "text": [
      "    X x_bin     y_bin\n",
      "7   7  3.25 0.1003733\n",
      "8   8  3.75 0.1058854\n",
      "9   9  4.25 0.1286731\n",
      "10 10  4.75 0.1728235\n",
      "11 11  5.25 0.2285271\n",
      "12 12  5.75 0.3024913\n",
      "13 13  6.25 0.3894572\n",
      "14 14  6.75 0.4902218\n",
      "15 15  7.25 0.5977772\n",
      "16 16  7.75 0.7078076\n",
      "17 17  8.25 0.8186257\n",
      "18 18  8.75 0.9054778\n",
      "19 19  9.25 0.9621040\n",
      "20 20  9.75 0.9838796\n",
      "21 21 10.25 0.9879393\n",
      "22 22 10.75 0.9884341\n",
      "23 23 11.25 0.9905211\n",
      "24 24 11.75 0.9892045\n",
      "25 25 12.25 0.9895314\n",
      "26 26 12.75 0.9886025\n",
      "27 27 13.25 0.9874161\n",
      "28 28 13.75 0.9869005\n",
      "29 29 14.25 0.9853183\n",
      "30 30 14.75 0.9852109\n",
      "31 31 15.25 0.9853380\n",
      "32 32 15.75 0.9854519\n",
      "33 33 16.25 0.9845350\n",
      "34 34 16.75 0.9846122\n",
      "35 35 17.25 0.9838511\n",
      "36 36 17.75 0.9849301\n",
      "37 37 18.25 0.9856144\n"
     ]
    }
   ],
   "source": [
    "data = read.csv('/home/dupad/Desktop/619/619 project/train.csv', header = T)\n",
    "bin_width = 0.5\n",
    "start = 0\n",
    "end = 18.5\n",
    "n_bins = round((end - start)/bin_width,0)\n",
    "x_bin = NULL\n",
    "y_bin = NULL\n",
    "for (i in 1:n_bins){\n",
    "  x_bin[i] = mean(c(bin_width*(i-1),bin_width*i))\n",
    "  y_bin[i] = mean(data$Power_Avg[which(data$Wind.Speed>(bin_width*(i-1)) & data$Wind.Speed<(bin_width*i))])\n",
    "  \n",
    "}\n",
    "binned_data = data.frame(x_bin, y_bin)\n",
    "\n",
    "write.csv(binned_data, \"train1.csv\")\n",
    "data1 = read.csv('train1.csv', header = T)\n",
    "data1=data1[(7:37),]\n",
    "print(data1)"
   ]
  },
  {
   "cell_type": "code",
   "execution_count": 15,
   "metadata": {},
   "outputs": [],
   "source": [
    "require(stats)\n"
   ]
  },
  {
   "cell_type": "code",
   "execution_count": 35,
   "metadata": {},
   "outputs": [],
   "source": [
    "fit<- smooth.spline(data1$x_bin, y= data1$y_bin , cv= TRUE)"
   ]
  },
  {
   "cell_type": "code",
   "execution_count": 36,
   "metadata": {},
   "outputs": [],
   "source": [
    "test = read.csv('/home/dupad/Desktop/619/619 project/test.csv', header = T)\n",
    "predict1<-predict(fit,test$Wind.Speed)"
   ]
  },
  {
   "cell_type": "code",
   "execution_count": 39,
   "metadata": {},
   "outputs": [],
   "source": [
    "fit<- smooth.spline(data1$x_bin, y= data1$y_bin , cv= TRUE)\n",
    "\n",
    "test = read.csv('/home/dupad/Desktop/619/619 project/test.csv', header = T)\n",
    "predict1<-predict(fit,test$Wind.Speed)"
   ]
  },
  {
   "cell_type": "code",
   "execution_count": 40,
   "metadata": {},
   "outputs": [
    {
     "name": "stderr",
     "output_type": "stream",
     "text": [
      "Updating HTML index of packages in '.Library'\n",
      "Making 'packages.html' ... done\n",
      "Loading required package: Metrics\n"
     ]
    }
   ],
   "source": [
    "install.packages(\"Metrics\")\n",
    "require(Metrics)"
   ]
  },
  {
   "cell_type": "code",
   "execution_count": 43,
   "metadata": {},
   "outputs": [
    {
     "data": {
      "text/html": [
       "0.0428698260265896"
      ],
      "text/latex": [
       "0.0428698260265896"
      ],
      "text/markdown": [
       "0.0428698260265896"
      ],
      "text/plain": [
       "[1] 0.04286983"
      ]
     },
     "metadata": {},
     "output_type": "display_data"
    }
   ],
   "source": [
    "error<- rmse(test$Power_Avg,predict1$y)\n",
    "error"
   ]
  },
  {
   "cell_type": "code",
   "execution_count": 45,
   "metadata": {},
   "outputs": [],
   "source": []
  },
  {
   "cell_type": "code",
   "execution_count": null,
   "metadata": {},
   "outputs": [],
   "source": []
  }
 ],
 "metadata": {
  "kernelspec": {
   "display_name": "R 3.4.4",
   "language": "R",
   "name": "ir33"
  },
  "language_info": {
   "codemirror_mode": "r",
   "file_extension": ".r",
   "mimetype": "text/x-r-source",
   "name": "R",
   "pygments_lexer": "r",
   "version": "3.5.0"
  }
 },
 "nbformat": 4,
 "nbformat_minor": 2
}
